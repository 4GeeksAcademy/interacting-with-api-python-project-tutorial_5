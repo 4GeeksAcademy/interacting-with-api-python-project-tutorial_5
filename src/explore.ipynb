{
    "cells": [
        {
            "cell_type": "markdown",
            "metadata": {},
            "source": [
                "# Explore here"
            ]
        },
        {
            "cell_type": "code",
            "execution_count": 13,
            "metadata": {},
            "outputs": [],
            "source": [
                "import os\n",
                "import pandas as pd\n",
                "import matplotlib.pyplot as plt\n",
                "from dotenv import load_dotenv\n",
                "import spotipy\n",
                "from spotipy.oauth2 import SpotifyClientCredentials"
            ]
        },
        {
            "cell_type": "markdown",
            "metadata": {},
            "source": [
                "### Paso 3: Variables de entorno\n",
                "\n",
                "Ya tienes el archivo .env en la raíz del proyecto. Asegúrate de que contenga las siguientes variables con tus credenciales de Spotify (reemplaza el contenido con tus propios datos):\n",
                "\n",
                "CLIENT_ID=your_client_id\n",
                "CLIENT_SECRET=your_client_secret\n",
                "⚠️ Es importante que coloques tus datos en las variables de entorno para evitar exponer tus credenciales si subes el proyecto a un repositorio."
            ]
        },
        {
            "cell_type": "code",
            "execution_count": 14,
            "metadata": {},
            "outputs": [
                {
                    "data": {
                        "text/plain": [
                            "True"
                        ]
                    },
                    "execution_count": 14,
                    "metadata": {},
                    "output_type": "execute_result"
                }
            ],
            "source": [
                "# Spotify API credentials\n",
                "# Get credential values\n",
                "client_id = os.environ.get(\"CLIENT_ID\")\n",
                "client_secret = os.environ.get(\"CLIENT_SECRET\")\n",
                "\n",
                "# load the .env file variables\n",
                "load_dotenv()"
            ]
        },
        {
            "cell_type": "markdown",
            "metadata": {},
            "source": [
                "### Paso 4: Inicializar la biblioteca Spotipy\n",
                "Importar Spotipy.\n",
                "Realizar la conexión con la API. Para ello, puedes utilizar la función spotipy.Spotify()."
            ]
        },
        {
            "cell_type": "code",
            "execution_count": 15,
            "metadata": {},
            "outputs": [],
            "source": [
                "auth_manager = SpotifyClientCredentials(client_id=client_id, client_secret=client_secret)\n",
                "spotify = spotipy.Spotify(auth_manager=auth_manager)"
            ]
        },
        {
            "cell_type": "markdown",
            "metadata": {},
            "source": [
                "### Paso 5: Realizar solicitudes a la API\n",
                "\n",
                "Comienza a interactuar con la API de Spotify: Obtén de tu artista favorito, el top 10 de sus canciones. Para ello, tendrás que buscar el ID del artista para usarlo en la librería. Este identificador es la dirección web que tiene el artista en Spotify:\n",
                "Buscar el identificador del artista en Spotify\n",
                "\n",
                "Una vez tengas la respuesta de la API, quédate con el elemento tracks, que contendrá las canciones con más reproducciones del artista, quédate con el nombre de la canción, la popularidad y la duración (en minutos)."
            ]
        },
        {
            "cell_type": "code",
            "execution_count": 16,
            "metadata": {},
            "outputs": [
                {
                    "data": {
                        "text/plain": [
                            "[{'nombre': \"The Kids Aren't Alright\", 'popularidad': 82, 'duración': 3.0},\n",
                            " {'nombre': \"You're Gonna Go Far, Kid\", 'popularidad': 81, 'duración': 2.96},\n",
                            " {'nombre': 'Pretty Fly (For A White Guy)',\n",
                            "  'popularidad': 78,\n",
                            "  'duración': 3.14},\n",
                            " {'nombre': 'Self Esteem', 'popularidad': 78, 'duración': 4.3},\n",
                            " {'nombre': \"Why Don't You Get A Job\", 'popularidad': 75, 'duración': 2.87},\n",
                            " {'nombre': 'Come Out and Play', 'popularidad': 73, 'duración': 3.3},\n",
                            " {'nombre': 'Want You Bad', 'popularidad': 73, 'duración': 3.38},\n",
                            " {'nombre': 'Gone Away - 1997', 'popularidad': 70, 'duración': 4.48},\n",
                            " {'nombre': 'Hit That', 'popularidad': 67, 'duración': 2.82},\n",
                            " {'nombre': 'Original Prankster', 'popularidad': 66, 'duración': 3.68}]"
                        ]
                    },
                    "execution_count": 16,
                    "metadata": {},
                    "output_type": "execute_result"
                }
            ],
            "source": [
                "artist_id = \"5LfGQac0EIXyAN8aUwmNAQ\"\n",
                "\n",
                "results = spotify.artist_top_tracks(artist_id)\n",
                "\n",
                "canciones = []\n",
                "for pista in results['tracks'][:10]:\n",
                "    canciones.append({\n",
                "        'nombre':pista['name'],\n",
                "        'popularidad': pista['popularity'],\n",
                "        'duración': round(pista['duration_ms'] / 1000 / 60, 2)\n",
                "    })\n",
                "canciones\n"
            ]
        },
        {
            "cell_type": "markdown",
            "metadata": {},
            "source": [
                "### Paso 6: Transformar a Pandas DataFrame\n",
                "\n",
                "Puesto que el resultado obtenido en estos pasos es susceptible de tener formato de tabla, conviértelo en un DataFrame importando los datos en su formato de diccionario. A continuación, ordena las canciones por popularidad creciente y muestra el top 3 resultante."
            ]
        },
        {
            "cell_type": "code",
            "execution_count": 17,
            "metadata": {},
            "outputs": [
                {
                    "data": {
                        "text/html": [
                            "<div>\n",
                            "<style scoped>\n",
                            "    .dataframe tbody tr th:only-of-type {\n",
                            "        vertical-align: middle;\n",
                            "    }\n",
                            "\n",
                            "    .dataframe tbody tr th {\n",
                            "        vertical-align: top;\n",
                            "    }\n",
                            "\n",
                            "    .dataframe thead th {\n",
                            "        text-align: right;\n",
                            "    }\n",
                            "</style>\n",
                            "<table border=\"1\" class=\"dataframe\">\n",
                            "  <thead>\n",
                            "    <tr style=\"text-align: right;\">\n",
                            "      <th></th>\n",
                            "      <th>nombre</th>\n",
                            "      <th>popularidad</th>\n",
                            "      <th>duración</th>\n",
                            "    </tr>\n",
                            "  </thead>\n",
                            "  <tbody>\n",
                            "    <tr>\n",
                            "      <th>0</th>\n",
                            "      <td>The Kids Aren't Alright</td>\n",
                            "      <td>82</td>\n",
                            "      <td>3.00</td>\n",
                            "    </tr>\n",
                            "    <tr>\n",
                            "      <th>1</th>\n",
                            "      <td>You're Gonna Go Far, Kid</td>\n",
                            "      <td>81</td>\n",
                            "      <td>2.96</td>\n",
                            "    </tr>\n",
                            "    <tr>\n",
                            "      <th>2</th>\n",
                            "      <td>Pretty Fly (For A White Guy)</td>\n",
                            "      <td>78</td>\n",
                            "      <td>3.14</td>\n",
                            "    </tr>\n",
                            "  </tbody>\n",
                            "</table>\n",
                            "</div>"
                        ],
                        "text/plain": [
                            "                         nombre  popularidad  duración\n",
                            "0       The Kids Aren't Alright           82      3.00\n",
                            "1      You're Gonna Go Far, Kid           81      2.96\n",
                            "2  Pretty Fly (For A White Guy)           78      3.14"
                        ]
                    },
                    "metadata": {},
                    "output_type": "display_data"
                },
                {
                    "data": {
                        "text/html": [
                            "<div>\n",
                            "<style scoped>\n",
                            "    .dataframe tbody tr th:only-of-type {\n",
                            "        vertical-align: middle;\n",
                            "    }\n",
                            "\n",
                            "    .dataframe tbody tr th {\n",
                            "        vertical-align: top;\n",
                            "    }\n",
                            "\n",
                            "    .dataframe thead th {\n",
                            "        text-align: right;\n",
                            "    }\n",
                            "</style>\n",
                            "<table border=\"1\" class=\"dataframe\">\n",
                            "  <thead>\n",
                            "    <tr style=\"text-align: right;\">\n",
                            "      <th></th>\n",
                            "      <th>nombre</th>\n",
                            "      <th>popularidad</th>\n",
                            "      <th>duración</th>\n",
                            "    </tr>\n",
                            "  </thead>\n",
                            "  <tbody>\n",
                            "    <tr>\n",
                            "      <th>0</th>\n",
                            "      <td>The Kids Aren't Alright</td>\n",
                            "      <td>82</td>\n",
                            "      <td>3.00</td>\n",
                            "    </tr>\n",
                            "    <tr>\n",
                            "      <th>1</th>\n",
                            "      <td>You're Gonna Go Far, Kid</td>\n",
                            "      <td>81</td>\n",
                            "      <td>2.96</td>\n",
                            "    </tr>\n",
                            "    <tr>\n",
                            "      <th>2</th>\n",
                            "      <td>Pretty Fly (For A White Guy)</td>\n",
                            "      <td>78</td>\n",
                            "      <td>3.14</td>\n",
                            "    </tr>\n",
                            "    <tr>\n",
                            "      <th>3</th>\n",
                            "      <td>Self Esteem</td>\n",
                            "      <td>78</td>\n",
                            "      <td>4.30</td>\n",
                            "    </tr>\n",
                            "    <tr>\n",
                            "      <th>4</th>\n",
                            "      <td>Why Don't You Get A Job</td>\n",
                            "      <td>75</td>\n",
                            "      <td>2.87</td>\n",
                            "    </tr>\n",
                            "    <tr>\n",
                            "      <th>5</th>\n",
                            "      <td>Come Out and Play</td>\n",
                            "      <td>73</td>\n",
                            "      <td>3.30</td>\n",
                            "    </tr>\n",
                            "    <tr>\n",
                            "      <th>6</th>\n",
                            "      <td>Want You Bad</td>\n",
                            "      <td>73</td>\n",
                            "      <td>3.38</td>\n",
                            "    </tr>\n",
                            "    <tr>\n",
                            "      <th>7</th>\n",
                            "      <td>Gone Away - 1997</td>\n",
                            "      <td>70</td>\n",
                            "      <td>4.48</td>\n",
                            "    </tr>\n",
                            "    <tr>\n",
                            "      <th>8</th>\n",
                            "      <td>Hit That</td>\n",
                            "      <td>67</td>\n",
                            "      <td>2.82</td>\n",
                            "    </tr>\n",
                            "    <tr>\n",
                            "      <th>9</th>\n",
                            "      <td>Original Prankster</td>\n",
                            "      <td>66</td>\n",
                            "      <td>3.68</td>\n",
                            "    </tr>\n",
                            "  </tbody>\n",
                            "</table>\n",
                            "</div>"
                        ],
                        "text/plain": [
                            "                         nombre  popularidad  duración\n",
                            "0       The Kids Aren't Alright           82      3.00\n",
                            "1      You're Gonna Go Far, Kid           81      2.96\n",
                            "2  Pretty Fly (For A White Guy)           78      3.14\n",
                            "3                   Self Esteem           78      4.30\n",
                            "4       Why Don't You Get A Job           75      2.87\n",
                            "5             Come Out and Play           73      3.30\n",
                            "6                  Want You Bad           73      3.38\n",
                            "7              Gone Away - 1997           70      4.48\n",
                            "8                      Hit That           67      2.82\n",
                            "9            Original Prankster           66      3.68"
                        ]
                    },
                    "metadata": {},
                    "output_type": "display_data"
                }
            ],
            "source": [
                "df = pd.DataFrame(canciones)\n",
                "top_three = df.sort_values(by='popularidad', ascending = False).head(3)\n",
                "display(top_three)\n",
                "display(df)"
            ]
        },
        {
            "cell_type": "markdown",
            "metadata": {},
            "source": [
                "### Paso 7: Analizar relación estadística\n",
                "\n",
                "¿Tiene relación la duración con la popularidad? ¿Podríamos decir que una canción que dure poco tiempo puede ser más popular que otra que dure más? Analízalo graficando un scatter plot y argumenta tu respuesta."
            ]
        },
        {
            "cell_type": "code",
            "execution_count": 18,
            "metadata": {},
            "outputs": [
                {
                    "data": {
                        "image/png": "[encoded data removed]",
                        "text/plain": [
                            "<Figure size 1200x500 with 1 Axes>"
                        ]
                    },
                    "metadata": {},
                    "output_type": "display_data"
                }
            ],
            "source": [
                "plt.figure(figsize=(12,5))\n",
                "plt.scatter(df['duración'], df['popularidad'])\n",
                "plt.xlabel('Duración(min/s)')\n",
                "plt.ylabel('Popularidad')\n",
                "plt.title('Relación Popularidad vs duración')\n",
                "plt.grid(True)\n",
                "plt.show()"
            ]
        },
        {
            "cell_type": "markdown",
            "metadata": {},
            "source": [
                "En el gráfico podemos observar que las canciones con menor duración tienden a ser más populares que las que tienen una mayor duración."
            ]
        }
    ],
    "metadata": {
        "kernelspec": {
            "display_name": "Python 3",
            "language": "python",
            "name": "python3"
        },
        "language_info": {
            "codemirror_mode": {
                "name": "ipython",
                "version": 3
            },
            "file_extension": ".py",
            "mimetype": "text/x-python",
            "name": "python",
            "nbconvert_exporter": "python",
            "pygments_lexer": "ipython3",
            "version": "3.11.4"
        },
        "orig_nbformat": 4
    },
    "nbformat": 4,
    "nbformat_minor": 2
}
